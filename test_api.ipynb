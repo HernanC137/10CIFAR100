{
 "cells": [
  {
   "cell_type": "code",
   "execution_count": 41,
   "metadata": {},
   "outputs": [
    {
     "name": "stdout",
     "output_type": "stream",
     "text": [
      "Predicción: {'predicted_class': 'bowl'}\n"
     ]
    }
   ],
   "source": [
    "import requests\n",
    "import json\n",
    "\n",
    "# URL de la API\n",
    "url = 'http://127.0.0.1:8000/predict/'\n",
    "\n",
    "# Cargar una imagen de prueba\n",
    "image_path = 'test_images/test_image_9.png' \n",
    "with open(image_path, 'rb') as image_file:\n",
    "    image_data = image_file.read()\n",
    "\n",
    "# Realizar la solicitud POST\n",
    "files = {'file': ('test_image.png', image_data, 'image/png')}\n",
    "response = requests.post(url, files=files)\n",
    "\n",
    "# Verificar la respuesta\n",
    "if response.status_code == 200:\n",
    "    print(\"Predicción:\", response.json())\n",
    "else:\n",
    "    print(\"Error:\", response.text)\n"
   ]
  }
 ],
 "metadata": {
  "kernelspec": {
   "display_name": "my_env",
   "language": "python",
   "name": "python3"
  },
  "language_info": {
   "codemirror_mode": {
    "name": "ipython",
    "version": 3
   },
   "file_extension": ".py",
   "mimetype": "text/x-python",
   "name": "python",
   "nbconvert_exporter": "python",
   "pygments_lexer": "ipython3",
   "version": "3.10.11"
  }
 },
 "nbformat": 4,
 "nbformat_minor": 2
}
